{
  "metadata": {
    "language_info": {
      "codemirror_mode": {
        "name": "python",
        "version": 3
      },
      "file_extension": ".py",
      "mimetype": "text/x-python",
      "name": "python",
      "nbconvert_exporter": "python",
      "pygments_lexer": "ipython3",
      "version": "3.8"
    },
    "kernelspec": {
      "name": "python",
      "display_name": "Pyolite",
      "language": "python"
    }
  },
  "nbformat_minor": 4,
  "nbformat": 4,
  "cells": [
    {
      "cell_type": "markdown",
      "source": "# My Jupyter Notebook on IBM Watson Studio",
      "metadata": {}
    },
    {
      "cell_type": "markdown",
      "source": "__Andrew Mowen__<br>Current Occupation: Teacher, Desired Occupation: Data Scientist",
      "metadata": {}
    },
    {
      "cell_type": "markdown",
      "source": "_I am interested in data science because I really enjoy creating solutions to complex problems and trying to find ways to optimize things and make peoples lives better. I enjoy asking questions about situations, and am excited to learn how to use the tools we have to investigate those questions._",
      "metadata": {}
    },
    {
      "cell_type": "markdown",
      "source": "### The code in the next cell will take the numbers \"1\" and \"1\" and add them together, assign that value to the variable \"x\", and print the value of \"x\" out. ",
      "metadata": {
        "tags": []
      }
    },
    {
      "cell_type": "code",
      "source": "x=1+1\nprint(x)",
      "metadata": {
        "trusted": true
      },
      "execution_count": 3,
      "outputs": [
        {
          "name": "stdout",
          "text": "2\n",
          "output_type": "stream"
        }
      ]
    },
    {
      "cell_type": "markdown",
      "source": "- This is bullet number 1<br> \n- This is bullet number 2<br> \n- This is bullet number 3 <br>\n1. This is item number 1\n1. This is item number 2\n1. This is item number 3\n| A film I like | A comic book I like|\n| ------ | ------ |\n| The Prestige | Batman  |",
      "metadata": {}
    },
    {
      "cell_type": "code",
      "source": "",
      "metadata": {},
      "execution_count": null,
      "outputs": []
    }
  ]
}